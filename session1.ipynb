{
 "cells": [
  {
   "cell_type": "markdown",
   "metadata": {},
   "source": [
    "# Basic Syntax"
   ]
  },
  {
   "cell_type": "code",
   "execution_count": 4,
   "metadata": {},
   "outputs": [
    {
     "name": "stdout",
     "output_type": "stream",
     "text": [
      "something!\n"
     ]
    }
   ],
   "source": [
    "print(\"something!\")\n",
    "book = \"The great Gatsby\"\n",
    "author_name = \"F.Scott\"\n",
    "\n",
    "varaible_name = \"value\"\n",
    "variablie_2 = 1.0"
   ]
  },
  {
   "cell_type": "markdown",
   "metadata": {},
   "source": [
    "# Data Types"
   ]
  },
  {
   "cell_type": "code",
   "execution_count": 15,
   "metadata": {},
   "outputs": [
    {
     "name": "stdout",
     "output_type": "stream",
     "text": [
      "My book name is Crime and P\n",
      "Hi this is the second type of 1\n"
     ]
    }
   ],
   "source": [
    "book = \"The great Gatsby\" # \"The great Gatsby\" is string\n",
    "book_count = 1 # integer (int)\n",
    "book_price = 23.5 # float --> float 32, float 64 \n",
    "is_available = True # boolean \n",
    "\n",
    "# this my comment that is going to be in 3 lines.\n",
    "# Line 1 \n",
    "# Line 2 \n",
    "# Line 3 \n",
    "\n",
    "\n",
    "\"\"\"\n",
    "this my comment that is going to be in 3 lines.\n",
    "Line 1 \n",
    "Line 2 \n",
    "Line 3 \n",
    "\"\"\"\n",
    "\n",
    "\n",
    "\n",
    "book = \"Crime and P\"\n",
    "\n",
    "print(f\"My book name is {book}\")\n",
    "print(f'Hi this is the second type of {book_count}')"
   ]
  },
  {
   "cell_type": "code",
   "execution_count": 16,
   "metadata": {},
   "outputs": [
    {
     "name": "stdout",
     "output_type": "stream",
     "text": [
      "<class 'float'>\n",
      "<class 'str'>\n"
     ]
    }
   ],
   "source": [
    "a = 3.35\n",
    "b = \"Another str\"\n",
    "print(type(a))\n",
    "print(type(b))"
   ]
  },
  {
   "cell_type": "markdown",
   "metadata": {},
   "source": [
    "# List"
   ]
  },
  {
   "cell_type": "code",
   "execution_count": 56,
   "metadata": {},
   "outputs": [
    {
     "name": "stdout",
     "output_type": "stream",
     "text": [
      "10\n",
      "20\n",
      "34\n"
     ]
    }
   ],
   "source": [
    "book_price = [10,20]\n",
    "print(book_price[0]) # list_name[index]\n",
    "print(book_price[1])\n",
    "# print(book_price[2]) # results in an error \n",
    "\n",
    "my_new_list = [1,\"Moha\",123,\"Calgary\"]\n",
    "my_new_list[1] = 34\n",
    "\n",
    "print(my_new_list[1])"
   ]
  },
  {
   "cell_type": "markdown",
   "metadata": {},
   "source": [
    "## Indexing"
   ]
  },
  {
   "cell_type": "code",
   "execution_count": 35,
   "metadata": {},
   "outputs": [
    {
     "name": "stdout",
     "output_type": "stream",
     "text": [
      "['abcd']\n",
      "[768, 2.32, 'kjh']\n",
      "[768, 2.32, 'kjh']\n",
      "4\n",
      "List 3 is: ['abcd', 768, 2.32, 'kjh', 20, 'guitar']\n"
     ]
    }
   ],
   "source": [
    "ls1 = ['abcd',768,2.32,'kjh']\n",
    "ls2 = [20,'guitar']\n",
    "print(ls1[0:1]) # ls[m:n] it'll print all items from m (including) to n(excluding)\n",
    "print(ls1[1:4]) # print form index 1 till the end. we found \"4\" manually\n",
    "print(ls1[1:])\n",
    "# len() --> gives you the length of the list\n",
    "print(len(ls1))\n",
    "ls3 = ls1 + ls2 \n",
    "print(f\"List 3 is: {ls3}\")"
   ]
  },
  {
   "cell_type": "code",
   "execution_count": 38,
   "metadata": {},
   "outputs": [
    {
     "name": "stdout",
     "output_type": "stream",
     "text": [
      "[2, 4, 6, 8, 10, 2, 4, 6, 8, 10]\n",
      "[2, 4, 6, 8, 10, 12]\n",
      "4\n",
      "List number after modification is [2, 5, 6, 8, 10, 12]\n"
     ]
    }
   ],
   "source": [
    "number_list = [2,4,6,8,10]\n",
    "print(number_list*2) # [4,8,12,16,20] ? \n",
    "\n",
    "\n",
    "# append\n",
    "last_number = 12\n",
    "# [2,4,6,8,10,12]\n",
    "number_list.append(last_number)\n",
    "print(number_list)\n",
    "print(number_list[1])\n",
    "number_list[1] = 5 \n",
    "print(f\"List number after modification is {number_list}\")"
   ]
  },
  {
   "cell_type": "markdown",
   "metadata": {},
   "source": [
    "# Tuple"
   ]
  },
  {
   "cell_type": "code",
   "execution_count": 41,
   "metadata": {},
   "outputs": [
    {
     "name": "stdout",
     "output_type": "stream",
     "text": [
      "(1, 'Mo', 25, 'asdasd')\n",
      "Mo\n"
     ]
    },
    {
     "ename": "TypeError",
     "evalue": "'tuple' object does not support item assignment",
     "output_type": "error",
     "traceback": [
      "\u001b[0;31m---------------------------------------------------------------------------\u001b[0m",
      "\u001b[0;31mTypeError\u001b[0m                                 Traceback (most recent call last)",
      "Cell \u001b[0;32mIn[41], line 4\u001b[0m\n\u001b[1;32m      2\u001b[0m \u001b[38;5;28mprint\u001b[39m(my_tuple)\n\u001b[1;32m      3\u001b[0m \u001b[38;5;28mprint\u001b[39m(my_tuple[\u001b[38;5;241m1\u001b[39m])\n\u001b[0;32m----> 4\u001b[0m \u001b[43mmy_tuple\u001b[49m\u001b[43m[\u001b[49m\u001b[38;5;241;43m1\u001b[39;49m\u001b[43m]\u001b[49m \u001b[38;5;241m=\u001b[39m \u001b[38;5;124m'\u001b[39m\u001b[38;5;124mJohn\u001b[39m\u001b[38;5;124m'\u001b[39m\n",
      "\u001b[0;31mTypeError\u001b[0m: 'tuple' object does not support item assignment"
     ]
    }
   ],
   "source": [
    "my_tuple = (1,\"Mo\",25,\"asdasd\") # [] --> ()\n",
    "print(my_tuple)\n",
    "print(my_tuple[1])\n",
    "my_tuple[1] = 'John' # We can't change values in a tuple "
   ]
  },
  {
   "cell_type": "markdown",
   "metadata": {},
   "source": [
    "# Dictionary"
   ]
  },
  {
   "cell_type": "code",
   "execution_count": 46,
   "metadata": {},
   "outputs": [
    {
     "name": "stdout",
     "output_type": "stream",
     "text": [
      "Moha\n",
      "{'name': 'John', 'City': 'Calgary', 'Company': 'Robogarden'}\n",
      "dict_keys(['name', 'City', 'Company'])\n",
      "dict_values(['John', 'Calgary', 'Robogarden'])\n"
     ]
    }
   ],
   "source": [
    "# consists of key-value pairs\n",
    "# To define key-value pairs --? key : value\n",
    "my_dictionary = {'name':'Moha', 'City':\"Calgary\", 'Company':\"Robogarden\"}\n",
    "print(my_dictionary['name'])\n",
    "my_dictionary['name'] = 'John'\n",
    "print(my_dictionary)\n",
    "print(my_dictionary.keys())\n",
    "print(my_dictionary.values())"
   ]
  },
  {
   "cell_type": "code",
   "execution_count": 50,
   "metadata": {},
   "outputs": [
    {
     "name": "stdout",
     "output_type": "stream",
     "text": [
      "{'person1': {'name': 'Moha', 'City': 'Calgary', 'Company': 'Robogarden'}, 'person2': {'name': 'John', 'City': 'Toronto', 'Company': 'SpaceX'}}\n",
      "Moha\n",
      "John\n"
     ]
    }
   ],
   "source": [
    "# person1 = {'name':'Moha', 'City':\"Calgary\", 'Company':\"Robogarden\"}\n",
    "\n",
    "new_dict = {}\n",
    "new_dict['person1'] = {'name':'Moha', 'City':\"Calgary\", 'Company':\"Robogarden\"}\n",
    "new_dict['person2'] = {'name':'John', 'City':\"Toronto\", 'Company':\"SpaceX\"}\n",
    "print(new_dict)\n",
    "print(new_dict['person1']['name'])\n",
    "print(new_dict['person2']['name'])"
   ]
  },
  {
   "cell_type": "code",
   "execution_count": 61,
   "metadata": {},
   "outputs": [
    {
     "name": "stdout",
     "output_type": "stream",
     "text": [
      "{1, 2, 3}\n"
     ]
    }
   ],
   "source": [
    "# set \n",
    "my_set = {1,2,3,1,1,1,2,2,3,1,3,2,1}\n",
    "print(my_set)"
   ]
  },
  {
   "cell_type": "code",
   "execution_count": 67,
   "metadata": {},
   "outputs": [
    {
     "name": "stdout",
     "output_type": "stream",
     "text": [
      "This is an unknown condition! (e.g equal)\n"
     ]
    }
   ],
   "source": [
    "# if statements \n",
    "balance = 250\n",
    "price = 250\n",
    "\n",
    "\n",
    "# if condition\n",
    "if balance < price : \n",
    "    print(\"Your balance is not enough!\")\n",
    "elif balance > price : \n",
    "    print(\"Your balance is more than enough\")\n",
    "else : \n",
    "    print(\"This is an unknown condition! (e.g equal)\")\n",
    "# elif balance == price : \n",
    "#     print(\"They are equal!\")\n"
   ]
  },
  {
   "cell_type": "code",
   "execution_count": 70,
   "metadata": {},
   "outputs": [
    {
     "name": "stdout",
     "output_type": "stream",
     "text": [
      "Your book is available\n",
      "Your book is available\n"
     ]
    }
   ],
   "source": [
    "is_available = True # boolean \n",
    "\n",
    "#\n",
    "if is_available : \n",
    "    print(\"Your book is available\")\n",
    "\n",
    "if is_available == True : \n",
    "    print(\"Your book is available\")"
   ]
  },
  {
   "cell_type": "code",
   "execution_count": 76,
   "metadata": {},
   "outputs": [
    {
     "name": "stdout",
     "output_type": "stream",
     "text": [
      "The index is 0\n",
      "The book with this index is crime&p\n",
      "----------\n",
      "The index is 1\n",
      "The book with this index is great G\n",
      "----------\n",
      "The index is 2\n",
      "The book with this index is Intro to python\n",
      "----------\n"
     ]
    }
   ],
   "source": [
    "book_list = ['crime&p','great G','Intro to python']\n",
    "\n",
    "# item in a list/iterable \n",
    "for item in book_list: \n",
    "    # print(item)\n",
    "    print(f\"The book name is: {item}\")\n",
    "\n",
    "print(\"-----\")\n",
    "# index \n",
    "# to find length --> use len() function\n",
    "for i in range(len(book_list)):\n",
    "    print(f\"The index is {i}\")\n",
    "    print(f\"The book with this index is {book_list[i]}\")\n",
    "    print(\"-\"*10)\n",
    "\n"
   ]
  },
  {
   "cell_type": "code",
   "execution_count": 85,
   "metadata": {},
   "outputs": [
    {
     "name": "stdout",
     "output_type": "stream",
     "text": [
      "Index is 0 and fruit is apple\n",
      "Index is 1 and fruit is banana\n",
      "Index is 2 and fruit is cherry\n",
      "----------\n",
      "Index is 0 and fruit is apple\n",
      "Index is 1 and fruit is banana\n",
      "Index is 2 and fruit is cherry\n"
     ]
    }
   ],
   "source": [
    "fruits = ['apple', 'banana', 'cherry']\n",
    "# 0, apple --> i . item\n",
    "# 1, banana\n",
    "# 2, cherry\n",
    "En = enumerate(fruits)\n",
    "# print(En)\n",
    "# print(list(En))\n",
    "# print(list(En))\n",
    "\n",
    "for i in range(len(fruits)):\n",
    "    print(f\"Index is {i} and fruit is {fruits[i]}\")\n",
    "\n",
    "print (\"-\"*10)\n",
    "\n",
    "for index , item in enumerate(fruits):\n",
    "    print(f\"Index is {index} and fruit is {item}\")"
   ]
  },
  {
   "cell_type": "code",
   "execution_count": 97,
   "metadata": {},
   "outputs": [
    {
     "name": "stdout",
     "output_type": "stream",
     "text": [
      "Final obtained list is [1, 2, 3, 4, 5, 6, 7, 8, 9, 10]\n",
      "Horay!\n",
      "This is not an even number !\n",
      "Horay!\n",
      "This is not an even number !\n",
      "Horay!\n",
      "This is not an even number !\n",
      "Horay!\n",
      "This is not an even number !\n",
      "Horay!\n",
      "This is not an even number !\n",
      "Horay!\n",
      "This is not an even number !\n",
      "Horay!\n",
      "This is not an even number !\n",
      "Horay!\n",
      "This is not an even number !\n",
      "Horay!\n",
      "This is not an even number !\n",
      "[10, 12, 14, 16, 18, 20, 22, 24, 26]\n"
     ]
    }
   ],
   "source": [
    "number_list = [1,2,3,4,5]\n",
    "# number_list = [1,2,3,4,5,6,7,8,9,10,11,...,100]\n",
    "\n",
    "\n",
    "# 1. for loop and add values one by one \n",
    "# 2. save new values in a new list or add them to the existing list \n",
    "\n",
    "for i in range(6,11):\n",
    "    # print(f\"The new item that is going to be added is {i}\")\n",
    "    number_list.append(i)\n",
    "\n",
    "print(f\"Final obtained list is {number_list}\")\n",
    "\n",
    "even_numbers = [] # to find all even numbers between 10 and 27\n",
    "\n",
    "for i in range(10,28):\n",
    "    if i % 2 == 0 :\n",
    "        print(\"Horay!\")\n",
    "        even_numbers.append(i)\n",
    "    else : \n",
    "        print(\"This is not an even number !\")\n",
    "        pass \n",
    "\n",
    "print(even_numbers)"
   ]
  },
  {
   "cell_type": "code",
   "execution_count": 102,
   "metadata": {},
   "outputs": [
    {
     "name": "stdout",
     "output_type": "stream",
     "text": [
      "[10, 12, 14, 16, 18, 20, 22, 24, 26]\n",
      "[10, 12, 14, 16, 18, 20, 22, 24, 26]\n"
     ]
    }
   ],
   "source": [
    "even_numbers = []\n",
    "for i in range(10,28):\n",
    "    if i % 2 == 0 :\n",
    "        even_numbers.append(i)\n",
    "    else : \n",
    "        pass \n",
    "\n",
    "print(even_numbers)\n",
    "\n",
    "a = 10\n",
    "even_numbers = [] \n",
    "while a <= 27 :\n",
    "    if a % 2 == 0 : \n",
    "        even_numbers.append(a)\n",
    "        # a += 1 \n",
    "    else : \n",
    "        pass\n",
    "    a += 1 \n",
    "\n",
    "print(even_numbers)"
   ]
  },
  {
   "cell_type": "code",
   "execution_count": 52,
   "metadata": {},
   "outputs": [],
   "source": [
    "# while "
   ]
  },
  {
   "cell_type": "code",
   "execution_count": 121,
   "metadata": {},
   "outputs": [
    {
     "name": "stdout",
     "output_type": "stream",
     "text": [
      "[2, 4, 6, 8, 10]\n"
     ]
    }
   ],
   "source": [
    "# even_numbers = []\n",
    "# for i in range(10,28):\n",
    "#     if i % 2 == 0 :\n",
    "#         even_numbers.append(i)\n",
    "#     else : \n",
    "#         pass \n",
    "\n",
    "# print(even_numbers)\n",
    "\n",
    "# Do the same thing but in the range of 15,36 --> lower_bound = 15 ; upper_bound = 36\n",
    "def even_finder(lower_bound:int, upper_bound:int):\n",
    "    even_numbers = []\n",
    "    # print(f\"Lower bound is {lower_bound} and it has to be int\")\n",
    "    # print(f\"Higher bound is {upper_bound} and it has to be int\")\n",
    "    for i in range(lower_bound,upper_bound+1):\n",
    "        if i % 2 == 0 :\n",
    "            even_numbers.append(i)\n",
    "        else : \n",
    "            pass \n",
    "    return even_numbers\n",
    "\n",
    "print(even_finder(1,10))\n"
   ]
  },
  {
   "cell_type": "code",
   "execution_count": 136,
   "metadata": {},
   "outputs": [
    {
     "name": "stdout",
     "output_type": "stream",
     "text": [
      "62\n"
     ]
    }
   ],
   "source": [
    "my_list = [1,2,3,4,5,10]\n",
    "\n",
    "# def my_addition(list:list):\n",
    "#     final_sum = 0 \n",
    "#     for i in range(len(list)):\n",
    "#         final_sum += my_list[i]\n",
    "#     return final_sum\n",
    "\n",
    "# print(my_addition(my_list))\n",
    "\n",
    "def my_addition(*args):\n",
    "    return sum(args)\n",
    "\n",
    "print(my_addition(1,2,3,4,10,10,11,13,8))\n",
    "\n"
   ]
  },
  {
   "cell_type": "markdown",
   "metadata": {},
   "source": [
    "# Class"
   ]
  },
  {
   "cell_type": "code",
   "execution_count": 137,
   "metadata": {},
   "outputs": [],
   "source": [
    "class Myclass():\n",
    "    # Constructor \n",
    "    def __init__(self):\n",
    "        pass \n",
    "a = Myclass()"
   ]
  },
  {
   "cell_type": "code",
   "execution_count": 138,
   "metadata": {},
   "outputs": [],
   "source": [
    "class NamesandFamily():\n",
    "    def __init__(self,name,famliy):\n",
    "        self.name = name \n",
    "        self.family = famliy\n",
    "\n",
    "person1 = NamesandFamily(\"Joe\",'abc')\n",
    "person2 = NamesandFamily(\"John\",'def')\n"
   ]
  },
  {
   "cell_type": "code",
   "execution_count": 144,
   "metadata": {},
   "outputs": [
    {
     "name": "stdout",
     "output_type": "stream",
     "text": [
      "Joe\n",
      "abc\n"
     ]
    }
   ],
   "source": [
    "print(person1.name) # self.name\n",
    "print(person1.family)"
   ]
  },
  {
   "cell_type": "code",
   "execution_count": null,
   "metadata": {},
   "outputs": [
    {
     "ename": "NameError",
     "evalue": "name 'dog_age' is not defined",
     "output_type": "error",
     "traceback": [
      "\u001b[0;31m---------------------------------------------------------------------------\u001b[0m",
      "\u001b[0;31mNameError\u001b[0m                                 Traceback (most recent call last)",
      "Cell \u001b[0;32mIn[155], line 14\u001b[0m\n\u001b[1;32m     11\u001b[0m         \u001b[38;5;28mprint\u001b[39m(\u001b[38;5;28mself\u001b[39m\u001b[38;5;241m.\u001b[39mdog_age)\n\u001b[1;32m     12\u001b[0m         \u001b[38;5;66;03m# print(age) # gives an error \u001b[39;00m\n\u001b[0;32m---> 14\u001b[0m mydog \u001b[38;5;241m=\u001b[39m \u001b[43mDog\u001b[49m\u001b[43m(\u001b[49m\u001b[38;5;124;43m\"\u001b[39;49m\u001b[38;5;124;43mBuddy\u001b[39;49m\u001b[38;5;124;43m\"\u001b[39;49m\u001b[43m,\u001b[49m\u001b[43m \u001b[49m\u001b[38;5;241;43m3\u001b[39;49m\u001b[43m \u001b[49m\u001b[43m,\u001b[49m\u001b[43m \u001b[49m\u001b[38;5;124;43m\"\u001b[39;49m\u001b[38;5;124;43mFamliy\u001b[39;49m\u001b[38;5;124;43m\"\u001b[39;49m\u001b[43m,\u001b[49m\u001b[43m \u001b[49m\u001b[38;5;124;43m\"\u001b[39;49m\u001b[38;5;124;43mBlack\u001b[39;49m\u001b[38;5;124;43m\"\u001b[39;49m\u001b[43m)\u001b[49m \u001b[38;5;66;03m# name, age, family_name, color\u001b[39;00m\n\u001b[1;32m     15\u001b[0m mydog\u001b[38;5;241m.\u001b[39mprint_age()\n",
      "Cell \u001b[0;32mIn[155], line 6\u001b[0m, in \u001b[0;36mDog.__init__\u001b[0;34m(self, name, age, family_name, color)\u001b[0m\n\u001b[1;32m      4\u001b[0m \u001b[38;5;28mself\u001b[39m\u001b[38;5;241m.\u001b[39mmydogname \u001b[38;5;241m=\u001b[39m name \u001b[38;5;66;03m# attribute\u001b[39;00m\n\u001b[1;32m      5\u001b[0m \u001b[38;5;66;03m# self.age = age \u001b[39;00m\n\u001b[0;32m----> 6\u001b[0m \u001b[38;5;28mself\u001b[39m\u001b[38;5;241m.\u001b[39mdog_age \u001b[38;5;241m=\u001b[39m \u001b[43mdog_age\u001b[49m\n\u001b[1;32m      7\u001b[0m \u001b[38;5;28mself\u001b[39m\u001b[38;5;241m.\u001b[39mfamily_name \u001b[38;5;241m=\u001b[39m family_name\n\u001b[1;32m      8\u001b[0m \u001b[38;5;28mself\u001b[39m\u001b[38;5;241m.\u001b[39mcolor \u001b[38;5;241m=\u001b[39m color\n",
      "\u001b[0;31mNameError\u001b[0m: name 'dog_age' is not defined"
     ]
    }
   ],
   "source": [
    "class Dog():\n",
    "    def __init__(self,name, age, family_name, color):\n",
    "        # self.name = name \n",
    "        self.mydogname = name # attribute\n",
    "        # self.age = age \n",
    "        self.dog_age = age\n",
    "        self.family_name = family_name\n",
    "        self.color = color \n",
    "\n",
    "    def print_age(self): \n",
    "        print(self.dog_age)\n",
    "        # print(age) # gives an error \n",
    "\n",
    "mydog = Dog(\"Buddy\", 3 , \"Famliy\", \"Black\") # name, age, family_name, color\n",
    "mydog.print_age()"
   ]
  },
  {
   "cell_type": "code",
   "execution_count": 157,
   "metadata": {},
   "outputs": [
    {
     "name": "stdout",
     "output_type": "stream",
     "text": [
      "3\n",
      "Curly\n"
     ]
    }
   ],
   "source": [
    "class Dog():\n",
    "    # Global attribute or Class attribute \n",
    "    hair_type = \"Curly\"\n",
    "    def __init__(self,name, age, family_name, color):\n",
    "        # self.name = name \n",
    "        self.mydogname = name # attribute\n",
    "        # self.age = age \n",
    "        self.dog_age = age\n",
    "        self.family_name = family_name\n",
    "        self.color = color \n",
    "\n",
    "    def print_age(self): \n",
    "        print(self.dog_age)\n",
    "        # print(age) # gives an error \n",
    "\n",
    "mydog = Dog(\"Buddy\", 3 , \"Famliy\", \"Black\") # name, age, family_name, color\n",
    "mydog.print_age()\n",
    "print(mydog.hair_type)"
   ]
  },
  {
   "cell_type": "code",
   "execution_count": 160,
   "metadata": {},
   "outputs": [
    {
     "name": "stdout",
     "output_type": "stream",
     "text": [
      "This car was built in 2025 by Toyota\n"
     ]
    }
   ],
   "source": [
    "class Car:\n",
    "    model = \"Toyota\" # class attribute\n",
    "    def __init__(self,year):\n",
    "        self.production_year = year \n",
    "\n",
    "    def get_car_info(self):\n",
    "        print(f\"This car was built in {self.production_year} by {self.model}\")\n",
    "\n",
    "car1 = Car(2025)\n",
    "car1.get_car_info() # car1 stands as self --> get_car_info(car1)"
   ]
  },
  {
   "cell_type": "code",
   "execution_count": 167,
   "metadata": {},
   "outputs": [
    {
     "ename": "AttributeError",
     "evalue": "'Dog' object has no attribute '__age'",
     "output_type": "error",
     "traceback": [
      "\u001b[0;31m---------------------------------------------------------------------------\u001b[0m",
      "\u001b[0;31mAttributeError\u001b[0m                            Traceback (most recent call last)",
      "Cell \u001b[0;32mIn[167], line 20\u001b[0m\n\u001b[1;32m     18\u001b[0m mydog \u001b[38;5;241m=\u001b[39m Dog(\u001b[38;5;124m\"\u001b[39m\u001b[38;5;124mBuddy\u001b[39m\u001b[38;5;124m\"\u001b[39m, \u001b[38;5;241m3\u001b[39m ) \u001b[38;5;66;03m# name, age, family_name, color\u001b[39;00m\n\u001b[1;32m     19\u001b[0m \u001b[38;5;66;03m# mydog.print_age()\u001b[39;00m\n\u001b[0;32m---> 20\u001b[0m \u001b[38;5;28mprint\u001b[39m(\u001b[38;5;124mf\u001b[39m\u001b[38;5;124m\"\u001b[39m\u001b[38;5;124mMy dog age was \u001b[39m\u001b[38;5;132;01m{\u001b[39;00m\u001b[43mmydog\u001b[49m\u001b[38;5;241;43m.\u001b[39;49m\u001b[43m__age\u001b[49m\u001b[38;5;132;01m}\u001b[39;00m\u001b[38;5;124m intially\u001b[39m\u001b[38;5;124m\"\u001b[39m)\n\u001b[1;32m     21\u001b[0m \u001b[38;5;66;03m# mydog.age += 2 \u001b[39;00m\n\u001b[1;32m     22\u001b[0m \u001b[38;5;66;03m# print(f\"My dog age after modification is {mydog.age}\")\u001b[39;00m\n",
      "\u001b[0;31mAttributeError\u001b[0m: 'Dog' object has no attribute '__age'"
     ]
    }
   ],
   "source": [
    "# Private attribute \n",
    "\n",
    "class Dog():\n",
    "    # Global attribute or Class attribute \n",
    "    hair_type = \"Curly\"\n",
    "    def __init__(self,name, age):\n",
    "        # self.name = name \n",
    "        self.name = name # attribute\n",
    "        # self.age = age \n",
    "        # self.age = age\n",
    "        self.__age = age # Private attribute \n",
    "        \n",
    "\n",
    "    def print_age(self): \n",
    "        print(self.__age )\n",
    "        # print(age) # gives an error \n",
    "\n",
    "mydog = Dog(\"Buddy\", 3 ) # name, age, family_name, color\n",
    "# mydog.print_age()\n",
    "print(f\"My dog age was {mydog.__age} intially\")\n",
    "# mydog.age += 2 \n",
    "# print(f\"My dog age after modification is {mydog.age}\")"
   ]
  },
  {
   "cell_type": "code",
   "execution_count": 176,
   "metadata": {},
   "outputs": [
    {
     "name": "stdout",
     "output_type": "stream",
     "text": [
      "Hi Moha\n",
      "100\n"
     ]
    }
   ],
   "source": [
    "class BacnkingSystem():\n",
    "    def __init__(self,name, Balance):\n",
    "        # self.name = name \n",
    "        self.name = name \n",
    "        self.__b = Balance  # Private attribute\n",
    "\n",
    "        \n",
    "\n",
    "    def print_balance(self):\n",
    "        self.__print_name()\n",
    "        print(self.__b)\n",
    "\n",
    "\n",
    "    def __print_name(self): # Private method\n",
    "        print(f\"Hi {self.name}\")\n",
    "\n",
    "myacc = BacnkingSystem(\"Moha\",100)\n",
    "myacc.print_balance()\n",
    "# myacc.__print_name()"
   ]
  },
  {
   "cell_type": "code",
   "execution_count": 188,
   "metadata": {},
   "outputs": [
    {
     "name": "stdout",
     "output_type": "stream",
     "text": [
      "The Animal Name is Rhino\n",
      "Hi\n",
      "Woof! my name is Buddy\n",
      "Meow! My name is Kitty\n"
     ]
    }
   ],
   "source": [
    "class Animal():\n",
    "    def __init__(self,name):\n",
    "        self.name = name \n",
    "        self.age = 2\n",
    "    \n",
    "    def printName(self):\n",
    "        print(f\"The Animal Name is {self.name}\")\n",
    "\n",
    "    def speak(self):\n",
    "        print(\"Hi\")\n",
    "        # pass \n",
    "\n",
    "rhino = Animal(\"Rhino\")\n",
    "rhino.printName()\n",
    "rhino.speak()\n",
    "\n",
    "# Derived class \n",
    "class Dog(Animal):\n",
    "    def __init__(self,name, age, color):\n",
    "        self.name = name \n",
    "        self.age = age \n",
    "        self.color = color\n",
    "\n",
    "    def speak(self) : \n",
    "        print(f\"Woof! my name is {self.name}\")\n",
    "\n",
    "class Cat(Animal):\n",
    "    # def __init__(self,name):\n",
    "    #     super.__init__()\n",
    "    #     # self.Myname = name \n",
    "    def print_myname(self):\n",
    "        print(f\"Hi my name is {self.name}\")\n",
    "\n",
    "    def speak(self):\n",
    "        print(f\"Meow! My name is {self.name}\")\n",
    "\n",
    "# Mydog is instance of Dog class. Dog class is a derived class of Animal\n",
    "mydog = Dog(\"Buddy\",3,\"Black\")\n",
    "mydog.speak()\n",
    "mycat = Cat(\"Kitty\")\n",
    "mycat.speak()\n",
    "\n"
   ]
  },
  {
   "cell_type": "code",
   "execution_count": 189,
   "metadata": {},
   "outputs": [
    {
     "name": "stdout",
     "output_type": "stream",
     "text": [
      "9\n"
     ]
    }
   ],
   "source": [
    "# magic function \n",
    "mylist = [1,2,3,4,5,6,7,8,9]\n",
    "print(len(mylist))"
   ]
  },
  {
   "cell_type": "code",
   "execution_count": 197,
   "metadata": {},
   "outputs": [
    {
     "name": "stdout",
     "output_type": "stream",
     "text": [
      "this is is the Crime and p written by D\n"
     ]
    }
   ],
   "source": [
    "class Book():\n",
    "    def __init__(self,name,author,pages):\n",
    "        self.title = name \n",
    "        self.author = author\n",
    "        self.pages = pages \n",
    "    \n",
    "    def __len__(self): # magic function\n",
    "        return self.pages\n",
    "    \n",
    "    def __str__(self): # magic funciton\n",
    "        return f\"this is is the {self.title} written by {self.author}\"\n",
    "\n",
    "book1 = Book(\"Crime and p\",\"D\",1000)\n",
    "\n",
    "len(book1) # Gives the number of pages \n",
    "print(book1) # Gives something like : This book is written by author name."
   ]
  },
  {
   "cell_type": "markdown",
   "metadata": {},
   "source": [
    "\n",
    "1. Exception\n",
    "    2.1- TypeError \n",
    "    2.2- ValueError \n",
    "    2.3- ZeroDivisionError \n",
    "    2.4- IndexError --> Done\n",
    "    2.5- KeyError --> Done\n",
    "    2.6- FileNotFoundError --> Done"
   ]
  },
  {
   "cell_type": "code",
   "execution_count": 199,
   "metadata": {},
   "outputs": [
    {
     "ename": "TypeError",
     "evalue": "unsupported operand type(s) for /: 'int' and 'str'",
     "output_type": "error",
     "traceback": [
      "\u001b[0;31m---------------------------------------------------------------------------\u001b[0m",
      "\u001b[0;31mTypeError\u001b[0m                                 Traceback (most recent call last)",
      "Cell \u001b[0;32mIn[199], line 1\u001b[0m\n\u001b[0;32m----> 1\u001b[0m \u001b[38;5;241;43m10\u001b[39;49m\u001b[38;5;241;43m/\u001b[39;49m\u001b[38;5;124;43m\"\u001b[39;49m\u001b[38;5;124;43ma\u001b[39;49m\u001b[38;5;124;43m\"\u001b[39;49m\n",
      "\u001b[0;31mTypeError\u001b[0m: unsupported operand type(s) for /: 'int' and 'str'"
     ]
    }
   ],
   "source": [
    "10/\"a\""
   ]
  },
  {
   "cell_type": "code",
   "execution_count": 206,
   "metadata": {},
   "outputs": [
    {
     "name": "stdout",
     "output_type": "stream",
     "text": [
      "150\n",
      "Insufficient funds\n"
     ]
    }
   ],
   "source": [
    "class Banking:\n",
    "    def __init__(self,name,balance):\n",
    "        self.name = name \n",
    "        # check whether balance is more than 0 or not\n",
    "        if balance < 0 :\n",
    "            # print(\"Balance is not enough!\")\n",
    "            raise ValueError (\"This is a text you wanna show!\")\n",
    "        self.balance = balance \n",
    "    \n",
    "    def deposit(self,amount):\n",
    "        self.balance += amount \n",
    "    \n",
    "    def withdraw(self,amount):\n",
    "        if amount > self.balance:\n",
    "            print(\"Insufficient funds\")\n",
    "        else :\n",
    "            self.balance -= amount \n",
    "            return f\"New balance is {self.balance}\"\n",
    "\n",
    "Moha_account = Banking(\"Moha\",100)\n",
    "Moha_account.deposit(50)\n",
    "print(Moha_account.balance)\n",
    "Moha_account.withdraw(200)"
   ]
  },
  {
   "cell_type": "code",
   "execution_count": null,
   "metadata": {},
   "outputs": [],
   "source": []
  }
 ],
 "metadata": {
  "kernelspec": {
   "display_name": "pythonintroclass",
   "language": "python",
   "name": "python3"
  },
  "language_info": {
   "codemirror_mode": {
    "name": "ipython",
    "version": 3
   },
   "file_extension": ".py",
   "mimetype": "text/x-python",
   "name": "python",
   "nbconvert_exporter": "python",
   "pygments_lexer": "ipython3",
   "version": "3.11.11"
  }
 },
 "nbformat": 4,
 "nbformat_minor": 2
}
